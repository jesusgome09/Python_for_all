{
 "cells": [
  {
   "attachments": {},
   "cell_type": "markdown",
   "metadata": {},
   "source": [
    "## Curso de python desde 0 para principiantes [Intermedio]\n",
    "\n",
    "Creado por: MoureDev by Brais Moure"
   ]
  },
  {
   "cell_type": "code",
   "execution_count": null,
   "metadata": {},
   "outputs": [],
   "source": [
    "#dates\n",
    "\n",
    "#import datetime #importamos un modulo completo\n",
    "from datetime import datetime #importamos especificamente una parte de un modulo, como el metodo datetime de la clase datetime\n",
    "\n",
    "now = datetime.now() #inicializamos un objeto\n",
    "\n",
    "def print_date(date):\n",
    "    print(f\"Dia: {date.day} Hora: {date.hour}:{date.minute}:{date.second} segundos\\ntimestamp: {date.timestamp()}\")\n",
    "\n",
    "print_date(now)\n",
    "\n",
    "year_2023 = datetime(2020, 11, 9, 12, 4, 23)\n",
    "print(year_2023)\n",
    "\n",
    "from datetime import time #omportamos el metodo time\n",
    "\n",
    "current_time = time(21,6,0)\n",
    "\n",
    "print(current_time.hour)\n",
    "\n",
    "from datetime import date #omportamos el metodo date\n",
    "\n",
    "current_date = date(2000, 1, 9,)\n",
    "\n",
    "print(f\"Año: {current_date.year*2}\\nMes: {current_date.month +1}\\nDia: {current_date.day-4}\")\n",
    "\n",
    "print(year_2023.date() - current_date)\n",
    "\n",
    "from datetime import timedelta\n",
    "\n",
    "start_timedelta = timedelta(200, 100,100, weeks=10 )\n",
    "end_timedelta = timedelta(300, 100,100, weeks=13 )\n",
    "print(end_timedelta - start_timedelta)\n",
    "print(end_timedelta + start_timedelta)\n",
    "print(end_timedelta / start_timedelta)\n",
    "# este es un espacio de tiempo que dura \"x\"\n",
    "#osea puede servir para identificar el tiempo en el que una persona a estdo subscrita a algo\n",
    "#como por ejemplo, se suscribio el 12 de tal mes, paras aber cuandos dias a estado suscrito\n",
    "# se colocar (fecha final - fecha inicial) lo que sera igual al tiempo transcurrido\n",
    "\n",
    "\n"
   ]
  },
  {
   "cell_type": "code",
   "execution_count": null,
   "metadata": {},
   "outputs": [],
   "source": [
    "#list comprehension | comprencion de listas\n",
    "\n",
    "my_original_list = [0,1,2,3,4,5,6,7]\n",
    "print(my_original_list)\n",
    "\n",
    "my_list = [i for i in range(8)]\n",
    "print(my_list)\n",
    "my_list = [i * 2 for i in range(8)]\n",
    "print(my_list)\n",
    "\n",
    "my_range = range(8)\n",
    "print(my_range)\n",
    "print(list(my_range))\n",
    "print(list(range(8)))\n",
    "#la lista comprimida es una forma rapida de crear lista, o de sumar listas\n",
    "\n",
    "def sum_five(number):\n",
    "    return number + 5\n",
    "my_list = [sum_five(i) for i in range(8)]\n",
    "print(my_list)"
   ]
  },
  {
   "attachments": {},
   "cell_type": "markdown",
   "metadata": {},
   "source": [
    "Un mini recuerdo:"
   ]
  },
  {
   "cell_type": "code",
   "execution_count": null,
   "metadata": {},
   "outputs": [],
   "source": [
    "texto = \"hola mundo\"\n",
    "longitud = len(texto)\n",
    "print(longitud)"
   ]
  },
  {
   "attachments": {},
   "cell_type": "markdown",
   "metadata": {},
   "source": [
    "### Lambdas\n",
    "\n",
    "Las lambdas son como las funciones, pero anonimas\n",
    "por lo que no hay que definir un nombre\n",
    "\n",
    "caracteristicas:\n",
    "\n",
    "- Anonimas (No tiene nombre)\n",
    "- Todo en una linea\n",
    "- Se puede almacenar en una variable"
   ]
  },
  {
   "cell_type": "code",
   "execution_count": null,
   "metadata": {},
   "outputs": [],
   "source": [
    "\n",
    "sum = lambda valor1, valor2: valor1 + valor2\n",
    "print(sum(1, 2))\n",
    "\n",
    "sum2 = lambda valor1, valor2: print(valor1 + valor2)\n",
    "sum(1, 2)\n",
    "\n",
    "multi = lambda valor1, valor2: print(f\"El resultado es: {valor1 * valor2}\")\n",
    "multi(3,4)\n",
    "\n",
    "def sum4(valor):\n",
    "    return lambda val1, val2: val1 + val2\n",
    "\n",
    "print(sum4(1)(3, 4))\n"
   ]
  },
  {
   "attachments": {},
   "cell_type": "markdown",
   "metadata": {},
   "source": [
    "### Funciones de orden superior\n",
    "\n",
    "Las funciones de orden superior son aquellas que se ejecutan antes de cualquier otra función. Por lo tanto, las funciones de orden superior pueden tener acceso a todas las variables locales y globales.\n",
    "\n"
   ]
  },
  {
   "cell_type": "code",
   "execution_count": null,
   "metadata": {},
   "outputs": [],
   "source": [
    "def sum_one(value):\n",
    "    return value + 1\n",
    "\n",
    "\n",
    "def sum_two_values_and_add_value(first_value, second_value):\n",
    "    return sum_one(first_value + second_value)\n",
    "\n",
    "\n",
    "print(sum_two_values_and_add_value(1, 2))\n",
    "\n",
    "# clousures\n",
    "\n",
    "\n",
    "def sum_ten():\n",
    "    def add(value):\n",
    "        return value + 10\n",
    "    return add\n",
    "\n",
    "\n",
    "add_clousures = sum_ten()\n",
    "print(add_clousures(10))\n",
    "\n",
    "# build-in higer order functions\n",
    "\n",
    "numeros = [2, 5, 10, 21]\n",
    "# map\n",
    "# por lo que veo sirve para poder dar un resultado modificado de una lista o algo asi\n",
    "\n",
    "def mult_map(numero):\n",
    "    return(numero*2)\n",
    "\n",
    "print(list(map(mult_map, numeros))) #una manera un poco larga debido a la funcion anterior\n",
    "print(list(map(lambda numeroo: numeroo*2, numeros))) #una manera mas corta\n",
    "\n",
    "# filter\n",
    "#puede filtrar elementos de una lista a traves de una condicion\n",
    "\n",
    "print(list(filter(lambda numeroo: numeroo > 9, numeros)))\n",
    "\n",
    "# reduce\n",
    "# reduce es una funcion que nos permite aplicar una operacion a todos los elementos de una lista\n",
    "from functools import reduce\n",
    "print(reduce(lambda numero, numero2: numero + numero2, numeros))# sumamos todos los elementos de la lista\n",
    "\n",
    "\n"
   ]
  },
  {
   "attachments": {},
   "cell_type": "markdown",
   "metadata": {},
   "source": [
    "### Tipos de errores\n",
    "\n",
    "Los errores se pueden omitir usando el ``` try -> except```\n",
    "existen muchas excepciones, nombraremos algunas de las siguientes:\n",
    "- ```ZeroDivisionError```\n",
    "- ```ValueError```\n",
    "- ```TypeError```\n",
    "- ```AttributeError```\n",
    "- ```KeyError```\n",
    "- ```IndexError```\n",
    "- ```NameError```\n",
    "- ```SyntaxError```\n",
    "- ```IndentationError```\n",
    "- ```TabError```\n",
    "- ```ReferenceError```\n",
    "- ```MemoryError```\n",
    "- ```UnboundLocalError```\n",
    "- ```RuntimeError```\n",
    "- ```ImportError```\n",
    "- ```ModuleNotFoundError```\n",
    "- ```UnicodeError```\n",
    "- ```UnicodeDecodeError```\n",
    "Y muchos mas..."
   ]
  },
  {
   "attachments": {},
   "cell_type": "markdown",
   "metadata": {},
   "source": [
    "#### SyntaxError"
   ]
  },
  {
   "cell_type": "code",
   "execution_count": null,
   "metadata": {},
   "outputs": [],
   "source": [
    "print \"Hola comunidad\" #SyntaxError: invalid syntax\n",
    "\"\"\"\n",
    "solucion:\n",
    "print(\"Hola comunidad\")\n",
    "\"\"\""
   ]
  },
  {
   "attachments": {},
   "cell_type": "markdown",
   "metadata": {},
   "source": [
    "\n",
    "#### NameError"
   ]
  },
  {
   "cell_type": "code",
   "execution_count": null,
   "metadata": {},
   "outputs": [],
   "source": [
    "\n",
    "print(language)  #NameError: name 'language' is not defined\n",
    "\n",
    "\"\"\"\n",
    "Solucion:\n",
    "language = \"python\"\n",
    "print(language)\n",
    "\"\"\""
   ]
  },
  {
   "attachments": {},
   "cell_type": "markdown",
   "metadata": {},
   "source": [
    "\n",
    "#### IndexError"
   ]
  },
  {
   "cell_type": "code",
   "execution_count": null,
   "metadata": {},
   "outputs": [],
   "source": [
    "my_list = [1, 2, 3, 4, 5, 6]\n",
    "print(my_list[6]) # IndexError: list index out of range\n",
    "\n",
    "\"\"\"\n",
    "Solucion:\n",
    "print(my_list[5]) resulta que el elemento 6 no existe en la lista\n",
    "\"\"\""
   ]
  },
  {
   "attachments": {},
   "cell_type": "markdown",
   "metadata": {},
   "source": [
    "#### ModuleNotFoundError"
   ]
  },
  {
   "cell_type": "code",
   "execution_count": null,
   "metadata": {},
   "outputs": [],
   "source": [
    "import maths #ModuleNotFoundError: No module named maths\n",
    "\"\"\"\n",
    "Solucion: \n",
    "import math\n",
    "el problemas es que importo una libreria que no existe o tienes\n",
    "\"\"\""
   ]
  },
  {
   "attachments": {},
   "cell_type": "markdown",
   "metadata": {},
   "source": [
    "#### AttributeError"
   ]
  },
  {
   "cell_type": "code",
   "execution_count": null,
   "metadata": {},
   "outputs": [],
   "source": [
    "import math\n",
    "print(math.PI)  #AttributeError: 'float' object has no attribute 'PI'\n",
    "\n",
    "\"\"\"\n",
    "Solucion:\n",
    "print(math.pi)  \n",
    "\"\"\""
   ]
  },
  {
   "attachments": {},
   "cell_type": "markdown",
   "metadata": {},
   "source": [
    "#### KeyError"
   ]
  },
  {
   "cell_type": "code",
   "execution_count": null,
   "metadata": {},
   "outputs": [],
   "source": [
    "my_dict = {\"Nombre\": \"Juan\", \"Apellido\": \"Perez\", \"Edad\": 14}\n",
    "print(my_dict[\"nombre\"]) #KeyError: 'nombre' is not defined\n",
    "\n",
    "\"\"\"\n",
    "Solucion:\n",
    "print(my_dict[\"Nombre\"])\n",
    "\"\"\"\n"
   ]
  },
  {
   "attachments": {},
   "cell_type": "markdown",
   "metadata": {},
   "source": [
    "### Otro error"
   ]
  },
  {
   "cell_type": "code",
   "execution_count": null,
   "metadata": {},
   "outputs": [],
   "source": [
    "#error"
   ]
  }
 ],
 "metadata": {
  "kernelspec": {
   "display_name": ".venv",
   "language": "python",
   "name": "python3"
  },
  "language_info": {
   "codemirror_mode": {
    "name": "ipython",
    "version": 3
   },
   "file_extension": ".py",
   "mimetype": "text/x-python",
   "name": "python",
   "nbconvert_exporter": "python",
   "pygments_lexer": "ipython3",
   "version": "3.10.8"
  },
  "orig_nbformat": 4
 },
 "nbformat": 4,
 "nbformat_minor": 2
}
