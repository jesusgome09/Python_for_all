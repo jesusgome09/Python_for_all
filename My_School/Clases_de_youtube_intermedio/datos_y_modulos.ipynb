{
 "cells": [
  {
   "cell_type": "code",
   "execution_count": null,
   "metadata": {},
   "outputs": [],
   "source": [
    "#dates\n",
    "\n",
    "#import datetime #importamos un modulo completo\n",
    "from datetime import datetime #importamos especificamente una parte de un modulo, como el metodo datetime de la clase datetime\n",
    "\n",
    "now = datetime.now() #inicializamos un objeto\n",
    "\n",
    "def print_date(date):\n",
    "    print(f\"Dia: {date.day} Hora: {date.hour}:{date.minute}:{date.second} segundos\\ntimestamp: {date.timestamp()}\")\n",
    "\n",
    "print_date(now)\n",
    "\n",
    "year_2023 = datetime(2020, 11, 9, 12, 4, 23)\n",
    "print(year_2023)\n",
    "\n",
    "from datetime import time #omportamos el metodo time\n",
    "\n",
    "current_time = time(21,6,0)\n",
    "\n",
    "print(current_time.hour)\n",
    "\n",
    "from datetime import date #omportamos el metodo date\n",
    "\n",
    "current_date = date(2000, 1, 9,)\n",
    "\n",
    "print(f\"Año: {current_date.year*2}\\nMes: {current_date.month +1}\\nDia: {current_date.day-4}\")\n",
    "\n",
    "print(year_2023.date() - current_date)\n",
    "\n",
    "from datetime import timedelta\n",
    "\n",
    "start_timedelta = timedelta(200, 100,100, weeks=10 )\n",
    "end_timedelta = timedelta(300, 100,100, weeks=13 )\n",
    "print(end_timedelta - start_timedelta)\n",
    "print(end_timedelta + start_timedelta)\n",
    "print(end_timedelta / start_timedelta)\n",
    "# este es un espacio de tiempo que dura \"x\"\n",
    "#osea puede servir para identificar el tiempo en el que una persona a estdo subscrita a algo\n",
    "#como por ejemplo, se suscribio el 12 de tal mes, paras aber cuandos dias a estado suscrito\n",
    "# se colocar (fecha final - fecha inicial) lo que sera igual al tiempo transcurrido\n",
    "\n",
    "\n"
   ]
  },
  {
   "cell_type": "code",
   "execution_count": null,
   "metadata": {},
   "outputs": [],
   "source": [
    "#list comprehension | comprencion de listas\n",
    "\n",
    "my_original_list = [0,1,2,3,4,5,6,7]\n",
    "print(my_original_list)\n",
    "\n",
    "my_list = [i for i in range(8)]\n",
    "print(my_list)\n",
    "my_list = [i * 2 for i in range(8)]\n",
    "print(my_list)\n",
    "\n",
    "my_range = range(8)\n",
    "print(my_range)\n",
    "print(list(my_range))\n",
    "print(list(range(8)))\n",
    "#la lista comprimida es una forma rapida de crear lista, o de sumar listas\n",
    "\n",
    "def sum_five(number):\n",
    "    return number + 5\n",
    "my_list = [sum_five(i) for i in range(8)]\n",
    "print(my_list)"
   ]
  },
  {
   "cell_type": "code",
   "execution_count": null,
   "metadata": {},
   "outputs": [],
   "source": [
    "#resolucion de ejercicios | challenges\n",
    "\"\"\"\n",
    "Se solucionaron algunos retos de programacion:\n",
    "1) EL FAMOSO \"FIZZ BUZZ\"\n",
    "2)\n",
    "\"\"\""
   ]
  }
 ],
 "metadata": {
  "kernelspec": {
   "display_name": ".venv",
   "language": "python",
   "name": "python3"
  },
  "language_info": {
   "codemirror_mode": {
    "name": "ipython",
    "version": 3
   },
   "file_extension": ".py",
   "mimetype": "text/x-python",
   "name": "python",
   "nbconvert_exporter": "python",
   "pygments_lexer": "ipython3",
   "version": "3.10.6"
  },
  "orig_nbformat": 4
 },
 "nbformat": 4,
 "nbformat_minor": 2
}
