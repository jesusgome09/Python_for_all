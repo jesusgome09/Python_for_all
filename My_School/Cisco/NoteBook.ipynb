{
 "cells": [
  {
   "attachments": {},
   "cell_type": "markdown",
   "metadata": {},
   "source": [
    "# Argumentos de print()\n",
    "1. end\n",
    "2. sep"
   ]
  },
  {
   "cell_type": "code",
   "execution_count": 6,
   "metadata": {},
   "outputs": [
    {
     "name": "stdout",
     "output_type": "stream",
     "text": [
      "Hola mi nombre es Jesus\n",
      "--------------------------------------------------\n",
      "Hola mi nombre es JAjaja"
     ]
    }
   ],
   "source": [
    "print(\"Hola mi nombre es \", end=\"\")\n",
    "print(\"Jesus\")\n",
    "print(\"-\"*50)\n",
    "print(\"Hola mi nombre es \", end=\"JAjaja\")\n"
   ]
  },
  {
   "cell_type": "code",
   "execution_count": 9,
   "metadata": {},
   "outputs": [
    {
     "name": "stdout",
     "output_type": "stream",
     "text": [
      "Mi-nombre-es-Jesus\n",
      "--------------------------------------------------\n",
      "MinombreesJesus\n",
      "--------------------------------------------------\n",
      "Mi~nombre~es~Jesus\n"
     ]
    }
   ],
   "source": [
    "print(\"Mi\",\"nombre\",\"es\",\"Jesus\",sep=\"-\")\n",
    "print(\"-\"*50)\n",
    "print(\"Mi\",\"nombre\",\"es\",\"Jesus\",sep=\"\")\n",
    "print(\"-\"*50)\n",
    "print(\"Mi\",\"nombre\",\"es\",\"Jesus\",sep=\"~\")"
   ]
  }
 ],
 "metadata": {
  "kernelspec": {
   "display_name": "Python 3",
   "language": "python",
   "name": "python3"
  },
  "language_info": {
   "codemirror_mode": {
    "name": "ipython",
    "version": 3
   },
   "file_extension": ".py",
   "mimetype": "text/x-python",
   "name": "python",
   "nbconvert_exporter": "python",
   "pygments_lexer": "ipython3",
   "version": "3.10.6"
  },
  "orig_nbformat": 4
 },
 "nbformat": 4,
 "nbformat_minor": 2
}
