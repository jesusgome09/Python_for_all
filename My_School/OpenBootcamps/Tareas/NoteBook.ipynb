{
 "cells": [
  {
   "attachments": {},
   "cell_type": "markdown",
   "metadata": {},
   "source": [
    "# Notas\n",
    "\n",
    "- Un paquete(Package) es un directorio que contiene modulos\n",
    "- Un modulo es un archivo.py\n",
    "- la clase se modulos no la coloco, pues ya lo habia visto\n",
    "- Un ambito es el alcance de una funcion\n"
   ]
  },
  {
   "attachments": {},
   "cell_type": "markdown",
   "metadata": {},
   "source": [
    "#### Programacion concurrente\n",
    "este paradigma de programacion ahcer el programa corra al mismo timepo impartiendo prosesos en los nucleos del sistema, por lo que hacer que el programa corra mas rapido, pero sin embargo gasta mas prosesador"
   ]
  },
  {
   "cell_type": "code",
   "execution_count": null,
   "metadata": {},
   "outputs": [],
   "source": [
    "# funciones Build-in\n",
    "\n",
    "#paradigma: programacion multi-hilo (paralelo), la que usamos normalmente es secuencial\n",
    "\n",
    "import _thread\n",
    "import time\n",
    "\n",
    "def horaActual(nombre_thread, tiempo_de_espera):\n",
    "    time.sleep(tiempo_de_espera)\n",
    "    print(f\"hilo {nombre_thread} - {time.ctime(time.time())}\")\n",
    "\n",
    "_thread.start_new_thread(horaActual, (\"thread_uno\",1))\n",
    "_thread.start_new_thread(horaActual, (\"thread_dos\",5))\n",
    "\n",
    "while True:\n",
    "    time.sleep(0.1)"
   ]
  },
  {
   "attachments": {},
   "cell_type": "markdown",
   "metadata": {},
   "source": [
    "### Continuamos"
   ]
  },
  {
   "cell_type": "code",
   "execution_count": 2,
   "metadata": {},
   "outputs": [
    {
     "name": "stderr",
     "output_type": "stream",
     "text": [
      "INFO:root:Arrancando programa\n",
      "WARNING:root:Hace calor!\n",
      "CRITICAL:root:Vamos a morir!\n"
     ]
    }
   ],
   "source": [
    "import logging\n",
    "\n",
    "logging.basicConfig(level=logging.INFO)\n",
    "logging.info(\"Arrancando programa\")\n",
    "logging.warning(\"Hace calor!\")\n",
    "logging.critical(\"Vamos a morir!\")\n",
    "\n"
   ]
  },
  {
   "cell_type": "code",
   "execution_count": 3,
   "metadata": {},
   "outputs": [
    {
     "name": "stdout",
     "output_type": "stream",
     "text": [
      "[2, 4, 6, 8, 10]\n"
     ]
    }
   ],
   "source": [
    "numeros = [1,2,3,4,5,6,7,8,9,10]\n",
    "\n",
    "def miFuncion(x):\n",
    "    if x % 2 == 0:\n",
    "        return True\n",
    "\n",
    "resultado = filter(miFuncion, numeros)\n",
    "print(list(resultado))"
   ]
  },
  {
   "cell_type": "code",
   "execution_count": 4,
   "metadata": {},
   "outputs": [
    {
     "name": "stdout",
     "output_type": "stream",
     "text": [
      "[1, 4, 9, 16, 25, 4225, 36, 49]\n"
     ]
    }
   ],
   "source": [
    "def cuadrado(x):\n",
    "    return x*x\n",
    "\n",
    "resultado = map(cuadrado, [1,2,3,4,5,65,6,7])\n",
    "print(list(resultado))"
   ]
  },
  {
   "cell_type": "code",
   "execution_count": 5,
   "metadata": {},
   "outputs": [
    {
     "name": "stdout",
     "output_type": "stream",
     "text": [
      "15\n"
     ]
    }
   ],
   "source": [
    "from functools import reduce\n",
    "\n",
    "def suma(a,b):\n",
    "    return a+b\n",
    "\n",
    "res = reduce(suma, [1,2,3,4,5])\n",
    "print(res)"
   ]
  },
  {
   "cell_type": "code",
   "execution_count": 6,
   "metadata": {},
   "outputs": [
    {
     "name": "stdout",
     "output_type": "stream",
     "text": [
      "[('java', 15), ('python', 20), ('Git', 4)]\n"
     ]
    }
   ],
   "source": [
    "cursos = [\"java\", \"python\", \"Git\"]\n",
    "asistentes = [15,20,4]\n",
    "demo = zip(cursos, asistentes)\n",
    "print(list(demo))"
   ]
  },
  {
   "cell_type": "code",
   "execution_count": 7,
   "metadata": {},
   "outputs": [
    {
     "name": "stdout",
     "output_type": "stream",
     "text": [
      "True\n",
      "False\n"
     ]
    }
   ],
   "source": [
    "listaA = [1==1,2==2,3==4]\n",
    "res = any(listaA) #almenos uno es verdadero\n",
    "print(res)\n",
    "res = all(listaA) #todos son verdaderos o todos son falsos \n",
    "print(res)"
   ]
  },
  {
   "cell_type": "code",
   "execution_count": 8,
   "metadata": {},
   "outputs": [
    {
     "name": "stdout",
     "output_type": "stream",
     "text": [
      "1\n",
      "6\n"
     ]
    }
   ],
   "source": [
    "a = 1.2\n",
    "b = 5.7\n",
    "\n",
    "print(round(a))\n",
    "print(round(b))"
   ]
  },
  {
   "cell_type": "code",
   "execution_count": 9,
   "metadata": {},
   "outputs": [
    {
     "name": "stdout",
     "output_type": "stream",
     "text": [
      "1\n",
      "4\n"
     ]
    }
   ],
   "source": [
    "print(min(1,2,3,4,5,6)) #el minimo \n",
    "print(pow(2,2)) #para esto no uso el math, que chevere"
   ]
  },
  {
   "cell_type": "code",
   "execution_count": 10,
   "metadata": {},
   "outputs": [
    {
     "name": "stdout",
     "output_type": "stream",
     "text": [
      "['a', 'b', 'x']\n"
     ]
    }
   ],
   "source": [
    "lista = [\"a\",\"x\",\"b\"]\n",
    "ordenada = sorted(lista)\n",
    "print(ordenada)"
   ]
  },
  {
   "cell_type": "code",
   "execution_count": 11,
   "metadata": {},
   "outputs": [
    {
     "name": "stdout",
     "output_type": "stream",
     "text": [
      "Hola Jesus, clave: 1234\n"
     ]
    }
   ],
   "source": [
    "from getpass import getpass\n",
    "\n",
    "user = input(\"User: \")\n",
    "passw = getpass(\"Password: \") #ahora no muestra en pantalla cuando colocas la clave\n",
    "\n",
    "print(f\"Hola {user}, clave: {passw}\")"
   ]
  }
 ],
 "metadata": {
  "kernelspec": {
   "display_name": "Python 3",
   "language": "python",
   "name": "python3"
  },
  "language_info": {
   "codemirror_mode": {
    "name": "ipython",
    "version": 3
   },
   "file_extension": ".py",
   "mimetype": "text/x-python",
   "name": "python",
   "nbconvert_exporter": "python",
   "pygments_lexer": "ipython3",
   "version": "3.11.4"
  },
  "orig_nbformat": 4
 },
 "nbformat": 4,
 "nbformat_minor": 2
}
