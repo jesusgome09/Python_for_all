{
 "cells": [
  {
   "cell_type": "code",
   "execution_count": null,
   "metadata": {},
   "outputs": [],
   "source": [
    "# funciones\n",
    "def hola(nombre, apellido): #nombre detro de la funcion es un parametro\n",
    "    print(\"hola mundo\")\n",
    "    print(\"Ultimate Python\")\n",
    "    print(f\"Bienvenido {nombre} {apellido}\") # hacemos uso de sus parametros\n",
    "\n",
    "\n",
    "hola(\"Jesus\",\"Gomez\") #el parametro nombre fuera de la funcion es un argumento\n",
    "#si nos damos cuenta es parecido a Java"
   ]
  },
  {
   "cell_type": "code",
   "execution_count": null,
   "metadata": {},
   "outputs": [],
   "source": [
    "#Argumentos Opcionales para funciones\n",
    "def hola(nombre, apellido=\"None\"): #el segundo es un parametro opcional\n",
    "    print(\"hola mundo\")\n",
    "    print(\"Ultimate Python\")\n",
    "    print(f\"Bienvenido {nombre} {apellido}\") \n",
    "\n",
    "\n",
    "hola(\"Jesus\") #en este caso podemos solo pasar un argumento o tambien los dos"
   ]
  },
  {
   "cell_type": "code",
   "execution_count": null,
   "metadata": {},
   "outputs": [],
   "source": [
    "#informar los argumentos colocados en los parametros requeridos\n",
    "def hola(nombre, apellido=\"None\"): \n",
    "    print(\"hola mundo\")\n",
    "    print(\"Ultimate Python\")\n",
    "    print(f\"Bienvenido {nombre} {apellido}\") \n",
    "\n",
    "\n",
    "hola(apellido=\"Gomez\",nombre=\"Jesus\") #invertimos la entrega de los argumentos, por lo que especificamos\n",
    "#cual era cual\n"
   ]
  },
  {
   "cell_type": "code",
   "execution_count": null,
   "metadata": {},
   "outputs": [],
   "source": [
    "# xargs\n",
    "def suma(*numeros):  # con ese asterisco, se volvio un iterable\n",
    "    resultado = 0\n",
    "    for numero in numeros:  # si es un iterable se le puede aplicar un for\n",
    "        resultado += numero\n",
    "    print(resultado)\n",
    "\n",
    "\n",
    "suma(2, 5)\n",
    "suma(4, 5, 8, 4, 3, 8)"
   ]
  },
  {
   "cell_type": "code",
   "execution_count": null,
   "metadata": {},
   "outputs": [],
   "source": [
    "#kwargs\n",
    "def get_product(**datos): #como es iterable puedo crear varios argumentos con este partametro\n",
    "    print(datos)\n",
    "    #print(datos[\"id\"], datos[\"marca\"])\n",
    "\n",
    "get_product(id=23, marca=\"Iphone\", Memory=1333) #cada ver que llame a un keyword arguments tengo que indicarle el nombre del parametro\n",
    "\n",
    "#el resultado viene siendo un diccionario"
   ]
  },
  {
   "cell_type": "code",
   "execution_count": null,
   "metadata": {},
   "outputs": [],
   "source": [
    "# return\n",
    "def suma(a, b):\n",
    "    return a+b\n",
    "\n",
    "\n",
    "resultado = suma(1, 2)\n",
    "resultado2 = suma(resultado, 2)\n",
    "\n",
    "print(resultado2)"
   ]
  },
  {
   "cell_type": "code",
   "execution_count": null,
   "metadata": {},
   "outputs": [],
   "source": [
    "#alcance de las funciones\n",
    "coco = \"rico\"\n",
    "def saludar():\n",
    "    global coco # de este modo puedo llamar una variabe global\n",
    "    saludo = \"Hola Mundo\" # esta variable solo existe dentro de esta funcion\n",
    "    print(saludo) # por lo tanto solo puede ser llamada desde adentro\n",
    "\n",
    "def saludaChanchito():\n",
    "    saludo = \"Hola Chanchito\"\n",
    "\n",
    "saludar()"
   ]
  },
  {
   "cell_type": "code",
   "execution_count": null,
   "metadata": {},
   "outputs": [],
   "source": [
    "#depuracion\n",
    "def largo(texto):\n",
    "    resultado = 0\n",
    "    for _ in texto: # antes _ se llamaba char pero como no hay nada daba un error\n",
    "        resultado += 1\n",
    "    return resultado\n",
    "    \n",
    "l = largo(\"Hola Mundo\")\n",
    "print(l)"
   ]
  },
  {
   "cell_type": "code",
   "execution_count": null,
   "metadata": {},
   "outputs": [],
   "source": [
    "# Actividad 2, palabras palindromos\n",
    "#no pude hacerla :(\n",
    "\n",
    "# Definición de la función \"no_space\" que elimina los espacios en blanco de un texto\n",
    "def no_space(texto):\n",
    "    # Crear una variable \"nuevo_texto\" y asignarle una cadena vacía\n",
    "    nuevo_texto = \"\"\n",
    "    \n",
    "    # Iterar a través de cada carácter en el texto\n",
    "    for char in texto:\n",
    "        # Si el carácter actual no es un espacio en blanco, agregarlo a \"nuevo_texto\"\n",
    "        if char != \" \":\n",
    "            nuevo_texto += char\n",
    "    \n",
    "    # Devolver el texto sin espacios en blanco\n",
    "    return nuevo_texto\n",
    "\n",
    "\n",
    "# Definición de la función \"reverse\" que invierte un texto\n",
    "def reverse(texto):\n",
    "    # Crear una variable \"texto_al_reves\" y asignarle una cadena vacía\n",
    "    texto_al_reves = \"\"\n",
    "    \n",
    "    # Iterar a través de cada carácter en el texto\n",
    "    for char in texto:\n",
    "        # Agregar el carácter actual al principio de \"texto_al_reves\"\n",
    "        texto_al_reves = char + texto_al_reves\n",
    "    \n",
    "    # Devolver el texto invertido\n",
    "    return texto_al_reves\n",
    "\n",
    "\n",
    "# Definición de la función \"es_palindromo\" que verifica si un texto es un palíndromo\n",
    "def es_palindromo(texto):\n",
    "    # Eliminar los espacios en blanco del texto\n",
    "    texto = no_space(texto)\n",
    "    \n",
    "    # Obtener el texto invertido\n",
    "    texto_al_reves = reverse(texto)\n",
    "    \n",
    "    # Verificar si el texto en minúsculas es igual al texto invertido en minúsculas\n",
    "    return texto.lower() == texto_al_reves.lower()\n",
    "\n",
    "\n",
    "# Ejemplo de uso:\n",
    "print(\"olo\", es_palindromo(\"olo\"))  # Salida: True, \"olo\" es un palíndromo sin importar mayúsculas o espacios\n",
    "\n",
    "\n",
    "#con esto aprendi que el orden de los factores si altera el producto\n"
   ]
  }
 ],
 "metadata": {
  "kernelspec": {
   "display_name": ".venv",
   "language": "python",
   "name": "python3"
  },
  "language_info": {
   "codemirror_mode": {
    "name": "ipython",
    "version": 3
   },
   "file_extension": ".py",
   "mimetype": "text/x-python",
   "name": "python",
   "nbconvert_exporter": "python",
   "pygments_lexer": "ipython3",
   "version": "3.10.6"
  },
  "orig_nbformat": 4
 },
 "nbformat": 4,
 "nbformat_minor": 2
}
