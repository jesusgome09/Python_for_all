{
 "cells": [
  {
   "cell_type": "code",
   "execution_count": null,
   "metadata": {},
   "outputs": [],
   "source": [
    "#control de flujo\n",
    "\n",
    "print(1 < 3) # en este caso devolvera un valor true o false \n",
    "print(1 > 3) # por ejemplo aqui: false\n",
    "print(1 == 3) # por ejemplo aqui: false\n",
    "print(1 != 3) # por ejemplo aqui: true\n",
    "print(1 >= 3) # por ejemplo aqui: true\n",
    "print(1 <= 3) # por ejemplo aqui: false\n"
   ]
  },
  {
   "cell_type": "code",
   "execution_count": null,
   "metadata": {},
   "outputs": [],
   "source": [
    "#Condicionales\n",
    "# if\n",
    "\n",
    "edad = input(\"Tu edad: \")\n",
    "edad = int(edad)\n",
    "\n",
    "if edad > 55: # se coloco el 55 arriba ya que este paradigma constructivo tiene una subrutina llamada\n",
    "    print(\"Puede ver la pelicula con descuento\") # secuencial, por lo que vas de arriba a abajo\n",
    "elif edad > 17:\n",
    "    print(\"Puede ver la pelicula\")\n",
    "else:\n",
    "    print(\"No puede ver la pelicula\")\n",
    "    print(\"ve a otro lado\")\n",
    "print(\"Listo\")\n"
   ]
  },
  {
   "cell_type": "code",
   "execution_count": null,
   "metadata": {},
   "outputs": [],
   "source": [
    "#Condicionales\n",
    "# if ternario\n",
    "\n",
    "edad = int(input(\"Coloca tu edad: \"))\n",
    "\n",
    "mensaje = \"Es mayor\" if edad > 17 else \"Es menor\" #es una vercion de if mas facil\n",
    "\n",
    "print(mensaje)"
   ]
  },
  {
   "cell_type": "code",
   "execution_count": null,
   "metadata": {},
   "outputs": [],
   "source": [
    "#operadores logicos\n",
    "# and, or end not\n",
    "\n",
    "gas = True\n",
    "encendido = True\n",
    "edad = 18\n",
    "\n",
    "if not gas or encendido and edad > 17:\n",
    "    print(\"Puedes avanzar\")\n"
   ]
  },
  {
   "cell_type": "code",
   "execution_count": null,
   "metadata": {},
   "outputs": [],
   "source": [
    "#cadena - comparadores\n",
    "\n",
    "edad = 25\n",
    "\n",
    "if 15 <= edad <= 65:\n",
    "    print(\"puede entrar a la picina\")\n"
   ]
  },
  {
   "cell_type": "code",
   "execution_count": null,
   "metadata": {},
   "outputs": [],
   "source": [
    "# bucles for\n",
    "# los for son muy utiles\n",
    "\n",
    "for numero in range(5):  # crea un rango: 0,1,2,3,4\n",
    "    print(numero, \"-\" * numero) # la variable numero se ejecutara 5 veces en cada numero mencionado\n",
    "\n",
    "# si queremos buscar algo con for\n",
    "\n",
    "buscar = 10\n",
    "for numero in range(5):\n",
    "    if numero == buscar:\n",
    "        print(\"Encontrado\",numero)\n",
    "        break #esto detiene el bucle\n",
    "else:\n",
    "    print(\"No encontre el numero buscado\")"
   ]
  },
  {
   "cell_type": "code",
   "execution_count": null,
   "metadata": {},
   "outputs": [],
   "source": [
    "#bucle while\n",
    "\n",
    "#numero = 1\n",
    "#while numero < 100:\n",
    "#    print(numero)\n",
    "#    numero *= 2\n",
    "\n",
    "#comando = \"\"\n",
    "#while comando.lower != \"salir\":\n",
    "#    comando = input(\"kali@kali:[~]$ \")\n",
    "#    print(comando)\n",
    "\n",
    "while True:\n",
    "    comando = input(\"kali@kali$ \")\n",
    "    print(comando)\n",
    "    if comando.lower() == \"salir\":\n",
    "        break\n",
    "print(\"Salimos\")"
   ]
  },
  {
   "cell_type": "code",
   "execution_count": null,
   "metadata": {},
   "outputs": [],
   "source": [
    "#Bucles anidados (loops anidados)\n",
    "\n",
    "#con este tipo de bucle para que el prinsipal prosiga el anidados deben haber terminado primero\n",
    "\n",
    "for j in range(3): #llamado: out for\n",
    "    for k in range(2): # cuando termina su bucle prosigue el codigo\n",
    "        print(f\"{j}, {k}\") #llamado: inner for"
   ]
  },
  {
   "cell_type": "code",
   "execution_count": null,
   "metadata": {},
   "outputs": [],
   "source": [
    "#Actividad 1 -> calculadora avansada\n",
    "n1 = \"\"\n",
    "\n",
    "print(\"\"\"\n",
    "Este es el calculadora avansada de jesus gomez\n",
    "las operaciones son las siguientes:\n",
    "suma\n",
    "resta\n",
    "mult\n",
    "div\n",
    "\n",
    "diviertace\n",
    "\"\"\")\n",
    "\n",
    "\n",
    "\n",
    "while True:\n",
    "    if str(n1).lower() == \"salir\": #superada\n",
    "        print(\"Adios\")\n",
    "        break\n",
    "    elif n1 :\n",
    "        n2 = input(\"Ingrese operacion: \")\n",
    "        if n2.lower() == \"salir\":\n",
    "            print(\"Adios\")\n",
    "            break\n",
    "        else:\n",
    "            n3 = input(\"Ingrese otro numero: \")\n",
    "            if n3.lower() == \"salir\":\n",
    "                print(\"Adios\")\n",
    "                break\n",
    "            else:\n",
    "                n1 = int(n1)\n",
    "                n3 = int(n3)\n",
    "                if n2 == \"suma\":\n",
    "                    n1 += n3\n",
    "                    print (n1)\n",
    "                elif n2 == \"resta\":\n",
    "                    n1 -= n3\n",
    "                    print (n1)\n",
    "                elif n2 == \"mult\":\n",
    "                    n1 *= n3\n",
    "                    print (n1)\n",
    "                elif n2 == \"div\":\n",
    "                    n1 /= n3\n",
    "                    print (n1)\n",
    "                else:\n",
    "                    print(\"Error\")\n",
    "\n",
    "    else:\n",
    "        n1 = input(\"Ingrese numero: \")\n"
   ]
  }
 ],
 "metadata": {
  "kernelspec": {
   "display_name": ".venv",
   "language": "python",
   "name": "python3"
  },
  "language_info": {
   "codemirror_mode": {
    "name": "ipython",
    "version": 3
   },
   "file_extension": ".py",
   "mimetype": "text/x-python",
   "name": "python",
   "nbconvert_exporter": "python",
   "pygments_lexer": "ipython3",
   "version": "3.10.6"
  },
  "orig_nbformat": 4
 },
 "nbformat": 4,
 "nbformat_minor": 2
}
