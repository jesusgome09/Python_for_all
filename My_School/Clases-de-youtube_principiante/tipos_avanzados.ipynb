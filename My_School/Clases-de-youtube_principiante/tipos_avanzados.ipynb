{
 "cells": [
  {
   "cell_type": "code",
   "execution_count": null,
   "metadata": {},
   "outputs": [],
   "source": [
    "# Listas\n",
    "\n",
    "numeros = [1, 2, 3]\n",
    "letras = [\"a\", \"b\", \"c\"]\n",
    "palabras = [\"hola\", \"caracol\", \"poiopnero\"]\n",
    "booleans = [True, False, True]\n",
    "matrix = [[0, 1], [0, 2], [0, 3], [0, 4], [0, 5], [0]]\n",
    "ceros = [0] * 10\n",
    "alfanumerico = numeros + letras\n",
    "rango = list(range(1,11))\n",
    "chars = list(\"Hola Mundo\")\n",
    "print(chars)"
   ]
  },
  {
   "cell_type": "code",
   "execution_count": null,
   "metadata": {},
   "outputs": [],
   "source": [
    "#Manipulando listas\n",
    "mascotas = [\"wolfgang\", \"pelula\", \"pulga\", \"copito\"]\n",
    "print(mascotas[3]) #mostrar a copito, el cual es el 3° elemento de la lista\n",
    "mascotas[1] = \"bicho\" #modificar el elemento 2 el cual es pelula a bicho\n",
    "print(mascotas)\n",
    "print(mascotas[1:3]) #seleciono un rango de elementos a devolver\n",
    "print(mascotas[-1]) #me devuelve el ultimo elemento de la lista\n",
    "print(mascotas[::2]) #con esto le digo que tome el primer elemento y el siguiente lo salte\n",
    "print(mascotas[1::2]) #con esto le digo que tome el segundo elemento y el siguiente lo salte y asi sucesivamente \n",
    "numeros = list(range(1,21))\n",
    "print(\"Los numeros impares son: \", numeros[::2]) #con esto imprime los numeros impares\n"
   ]
  },
  {
   "cell_type": "code",
   "execution_count": null,
   "metadata": {},
   "outputs": [],
   "source": [
    "#Desempaquetar listas\n",
    "numeros =[1,2,3]\n",
    "\n",
    "#feo\n",
    "primero = numeros[0]\n",
    "segundo = numeros[1]\n",
    "tercero = numeros[2]\n",
    "\n",
    "#bonito\n",
    "primero, segundo, tercero = numeros # con esto le definimos un numero a cada variable como 1, 2 y 3\n",
    "primero, *otros, ultimo = numeros # aqui solo definimos el primer elemento a la variable {primero} y el resto a {otros}\n",
    "# y se puede hacer lo mismo con los ultimos elementos\n",
    "print(primero, otros, ultimo)"
   ]
  },
  {
   "cell_type": "code",
   "execution_count": null,
   "metadata": {},
   "outputs": [],
   "source": [
    "#Iterando listas\n",
    "\n",
    "masotas =[\"pelusa\", \"pulga\", \"felipe\", \"cochino\"]\n",
    "#lo bueno de las listas es que son iterables, y tambien un string y un range, por lo que sirve con for\n",
    "for indice, mascota in enumerate(mascotas): #con enumerate() se vuelve algo conocido como \"Tupla\"\n",
    "    print(indice, mascota)"
   ]
  },
  {
   "cell_type": "code",
   "execution_count": null,
   "metadata": {},
   "outputs": [],
   "source": [
    "# Buscar elementos de una lista\n",
    "mascotas = [\"pelusa\", \"pulga\", \"felipe\", \"cochino\", \"cochino\"]\n",
    "\n",
    "print(mascotas.count(\"cochino\")) # devuelve cuantas veces esta ese elemento en una lista\n",
    "print(mascotas.index(\"cochino\")) # de devolvera el indice (numero) de este elemento"
   ]
  },
  {
   "cell_type": "code",
   "execution_count": null,
   "metadata": {},
   "outputs": [],
   "source": [
    "#Agregando y eliminandos elementos de una lista\n",
    "mascotas =[\"pelusa\", \"pulga\", \"felipe\", \"cochino\", \"cochino\", \"felipe\"]\n",
    "\n",
    "mascotas.insert(1, \"coco\") #agrega un elemento en el indice indicado (1)\n",
    "mascotas.append(\"pepe\") # agrega un elemento al final de la lista\n",
    "\n",
    "mascotas.remove(\"cochino\") # elimina el primer elemento con ese nombre\n",
    "mascotas.pop() # elimina el ultimo elemento de la lista\n",
    "mascotas.pop(1) # elimina el elemento 1 de la lista\n",
    "del mascotas[2] # elimina el elemento 2 de la lista\n",
    "mascotas.clear() # elimina todos los elementos de la lista\n",
    "print(mascotas)"
   ]
  },
  {
   "cell_type": "code",
   "execution_count": null,
   "metadata": {},
   "outputs": [],
   "source": [
    "# ordenar listas\n",
    "numeros = [1, 5, 8, 4, 5, 85, 42]\n",
    "Numeros = [1, 5, 8, 4, 5, 85, 42]\n",
    "NUmeros = [1, 5, 8, 4, 5, 85, 42]\n",
    "\n",
    "numeros.sort() #con este metodo se puede organizar una lista de menor a mayor\n",
    "Numeros.sort(reverse=True) #con este metodo se puede organizar una lista de mayor a menor\n",
    "normal = sorted(NUmeros) #creamos una nueva lista ya ordenada si la queremos al reves, usamos reverse=True\n",
    "\n",
    "print(numeros)\n",
    "print(Numeros)\n",
    "print(normal)\n",
    "\n",
    "usuarios = [[17, \"Jesus\"], [13, \"David\"], [3, \"Guaco\"], [4, \"Jorge\"]]\n",
    "print(sorted(usuarios)) #ordena siempre y cuando el primer elemento sea ordenable, osea numeros\n"
   ]
  },
  {
   "cell_type": "code",
   "execution_count": null,
   "metadata": {},
   "outputs": [],
   "source": [
    "#Expreciones lambda\n",
    "usuarios = [[\"Jesus\",17], [\"David\",13], [\"Guaco\",3], [\"Jorge\",4]]\n",
    "\n",
    "def ordena(elemento):\n",
    "    return elemento[1]\n",
    "\n",
    "usuarios.sort(key=lambda elementos:elementos[1])\n",
    "print(usuarios)\n"
   ]
  },
  {
   "cell_type": "code",
   "execution_count": null,
   "metadata": {},
   "outputs": [],
   "source": [
    "#comprencion de listas\n",
    "usuarios = [\n",
    "    [17, \"Jesus\"],\n",
    "    [13, \"David\"],\n",
    "    [3, \"Guaco\"],\n",
    "    [4, \"Jorge\"]\n",
    "    ]\n",
    "Usuarios = [\n",
    "    [17, \"Jesus\"],\n",
    "    [13, \"David\"],\n",
    "    [3, \"Guaco\"],\n",
    "    [4, \"Jorge\"]\n",
    "    ]\n",
    "#una manera clasica de ordena listas y comprimir\n",
    "nombres = []\n",
    "for usuario in usuarios:\n",
    "    nombres.append(usuario[0])\n",
    "print(nombres)\n",
    "\n",
    "#una manera disque mas moderna y elegante\n",
    "#map\n",
    "NOmbres = [usuarioo[0] for usuarioo in Usuarios]\n",
    "print(NOmbres)\n",
    "\n",
    "#en esta solo mostrara los que cumplan la condicion mostrada\n",
    "#filter\n",
    "NOmbres = [usuarioo[0] for usuarioo in Usuarios if usuarioo[0] > 10]\n",
    "print(NOmbres)\n",
    "\n",
    "nommbres = list(map(lambda usuario: usuario[0], usuarios))\n",
    "print(nommbres)"
   ]
  },
  {
   "cell_type": "code",
   "execution_count": null,
   "metadata": {},
   "outputs": [],
   "source": [
    "#tuplas\n",
    "#es lo mismo que una lista, solo que no puedes modificar, pero puedes clonarlas\n",
    "\n",
    "numeros = (1,2,3) + (4,5,6) #creamos y sumamos tuplas\n",
    "print(numeros)\n",
    "\n",
    "punto =tuple([1,2]) #creamos lista y convertimos a tupla\n",
    "print(punto)\n",
    "\n",
    "para = [1,2,3,4,5,6] # creamos lista\n",
    "print(tuple(para)) #imprimimos una lista que se convierte a tupla"
   ]
  },
  {
   "cell_type": "code",
   "execution_count": null,
   "metadata": {},
   "outputs": [],
   "source": [
    "#sets, set significa grupo o conjuntos\n",
    "\n",
    "primer = {1,2,2,3,4,5}\n",
    "print(primer)\n",
    "#si nos damos cuenta cuando imprimimos se eliminan los duplicados\n",
    "\n",
    "primer.add(12) #añadimos el elemento 12\n",
    "primer.remove(2) #eliminamos los elementos 2\n",
    "print(primer)\n",
    "\n",
    "segundo = [3,4,5]\n",
    "\n",
    "segundo = set(segundo)\n",
    "print(segundo)\n",
    "\n",
    "print(primer | segundo) #llamado: union\n",
    "print(primer & segundo) #llamado: interseccion\n",
    "print(primer - segundo) #llamado: DIFERENCIA\n",
    "print(primer ^ segundo) #llamado: DIFERENCIA simetrica\n"
   ]
  },
  {
   "cell_type": "code",
   "execution_count": null,
   "metadata": {},
   "outputs": [],
   "source": [
    "#diccionarios\n",
    "\n",
    "punto = {\"x\":25, \"y\":50} # primero string luego lo que quieras\n",
    "print(punto)\n",
    "print(punto[\"x\"])\n",
    "punto[\"c\"] = 45\n",
    "print(punto[\"c\"])\n",
    "print(punto)\n",
    "\n",
    "if \"lala\" in punto:\n",
    "    print(\"Encontre a lala\", punto[\"lala\"])\n",
    "\n",
    "print(punto.get(\"x\"))\n",
    "print(punto.get(\"lala\"))\n",
    "print(punto.get(\"lala\", 23))\n",
    "\n",
    "del punto[\"x\"] #Elimina el elemento \"x\" y su key\n",
    "del (punto[\"c\"])  #Elimina el elemento \"x\" y su key\n",
    "print(punto)\n",
    "punto[\"x\"] = 25\n",
    "print(punto)\n",
    "\n",
    "for valor in punto:\n",
    "    print(valor, punto[valor])\n",
    "\n",
    "for valor in punto.items():\n",
    "    print(valor)\n",
    "\n",
    "usuarios = [\n",
    "    {\"id\": 1, \"nombre\": \"Chanchito\"},#identificador unico\n",
    "    {\"id\":2, \"nombre\": \"Juan\"},#identificador unico\n",
    "    {\"id\":3, \"nombre\": \"Pedro\"},#identificador unico\n",
    "    {\"id\":4, \"nombre\": \"michael\"}#identificador unico\n",
    "]\n",
    "pipe = 0\n",
    "for usuario in usuarios:\n",
    "    print(usuario[\"nombre\"], pipe)\n",
    "    pipe += 1\n"
   ]
  },
  {
   "cell_type": "code",
   "execution_count": null,
   "metadata": {},
   "outputs": [],
   "source": [
    "#operador de desmpaquetamiento\n",
    "\n",
    "lista = [1,2,3,4]\n",
    "print(lista)\n",
    "print(*lista)\n",
    "\n",
    "lista2 = [5,6]\n",
    "\n",
    "combinada = [\"Hola mundo\",*lista, *lista2]\n",
    "print(*combinada)\n",
    "\n",
    "punto1 = {\"x\":19}\n",
    "punto2 = {\"y\":15}\n",
    "\n",
    "nuevoPunto = {**punto1, **punto2, \"z\": \"mundo\"}\n",
    "print(nuevoPunto)\n"
   ]
  }
 ],
 "metadata": {
  "kernelspec": {
   "display_name": ".venv",
   "language": "python",
   "name": "python3"
  },
  "language_info": {
   "codemirror_mode": {
    "name": "ipython",
    "version": 3
   },
   "file_extension": ".py",
   "mimetype": "text/x-python",
   "name": "python",
   "nbconvert_exporter": "python",
   "pygments_lexer": "ipython3",
   "version": "3.10.6"
  },
  "orig_nbformat": 4
 },
 "nbformat": 4,
 "nbformat_minor": 2
}
