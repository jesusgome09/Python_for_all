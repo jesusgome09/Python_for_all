{
 "cells": [
  {
   "cell_type": "code",
   "execution_count": null,
   "metadata": {},
   "outputs": [],
   "source": [
    "#imprimir una cadena de texto o numeros\n",
    "print(\"Hello Wordl!\")\n",
    "print (12345)"
   ]
  },
  {
   "cell_type": "code",
   "execution_count": null,
   "metadata": {},
   "outputs": [],
   "source": [
    "#repetir una cadena de texto\n",
    "print(\"el papi \" * 4)"
   ]
  },
  {
   "cell_type": "code",
   "execution_count": null,
   "metadata": {},
   "outputs": [],
   "source": [
    "#banner\n",
    "print(\"-\"*50)\n",
    "print(\"Hola\")\n",
    "print(\"-\"*50)"
   ]
  },
  {
   "cell_type": "code",
   "execution_count": null,
   "metadata": {},
   "outputs": [],
   "source": [
    "#variables\n",
    "nombre_curso = \"ultimate python\"  # string\n",
    "alumnos = 5000  # integer\n",
    "puntaje = 9.9  # float\n",
    "publicados = True  # boolean\n",
    "print(nombre_curso,\"consta de\",alumnos,\"estudiantes\")"
   ]
  },
  {
   "cell_type": "code",
   "execution_count": null,
   "metadata": {},
   "outputs": [],
   "source": [
    "#Formateo o concatenacion\n",
    "nombre=\"Jesus\"\n",
    "apellido=\"Gomez\"\n",
    "nombre_completo = nombre + \" \" + apellido\n",
    "nombre_completo2 = f\"{nombre} {apellido}\"\n",
    "print(nombre_completo)\n",
    "print(nombre_completo2)"
   ]
  },
  {
   "cell_type": "code",
   "execution_count": null,
   "metadata": {},
   "outputs": [],
   "source": [
    "#metodos\n",
    "animal=\"chanchito feliz\"\n",
    "print(animal.upper())\n",
    "print(animal.lower())\n",
    "print(animal.capitalize())\n",
    "print(animal.title())\n",
    "print(animal.strip())\n",
    "print(animal.rstrip())\n",
    "print(animal.lstrip())\n",
    "print(animal.strip().capitalize())\n",
    "print(animal.find(\"ch\")) #si da -1 es que nop existe o no lo encontro\n",
    "print(animal.replace(\"ch\",\"t\"))\n",
    "print(\"cha\" in animal)\n",
    "verdad = \"nch\" in animal\n",
    "verdad2 = \"nch\" not in animal\n",
    "print(verdad2)\n"
   ]
  },
  {
   "cell_type": "code",
   "execution_count": null,
   "metadata": {},
   "outputs": [],
   "source": [
    "#colocar comillas dobles\n",
    "curso=\"ultimate \\\"python\\\"\"\n",
    "print(curso)\n",
    "#existen varios, unos de esos son:\n",
    "#\\\\ \n",
    "# \\\" \n",
    "# \\n \n",
    "# \\' "
   ]
  },
  {
   "cell_type": "code",
   "execution_count": null,
   "metadata": {},
   "outputs": [],
   "source": [
    "#numeros\n",
    "numero = 2 #entero -> integer\n",
    "decimal = 1.2 #float\n",
    "imaginario = 2 + 2j \n",
    "\n",
    "print(1+3)\n",
    "print(1-3)\n",
    "print(1*3)\n",
    "print(1/3)\n",
    "print(1//3) #el cociente o algo asi\n",
    "print(1%3)  #lo sobrante \n",
    "print(1**3) #potencia"
   ]
  },
  {
   "cell_type": "code",
   "execution_count": null,
   "metadata": {},
   "outputs": [],
   "source": [
    "#funciones con numeros\n",
    "\n",
    "\n",
    "print(round(1.3)) #redondear\n",
    "print(abs(-66)) #valor absoluto\n",
    "\n",
    "import math\n",
    "\n",
    "print(math.ceil(1.1)) #numero mas cercano hacia arriba\n",
    "print(math.floor(1.999999)) #numero mas cercano hacia abajo\n",
    "print(math.isnan(23)) # si hay un numero dice false pero si hay una letra da error, raro pero cierto\n",
    "print(math.pow(10, 3)) #eleva un numero a la potencia de n\n",
    "print(math.sqrt(9)) #saca la raiz cuadrada de n"
   ]
  },
  {
   "cell_type": "code",
   "execution_count": null,
   "metadata": {},
   "outputs": [],
   "source": [
    "#mi primer programa del curso: la calculadora\n",
    "\n",
    "n1 = input(\"Ingresa primero numero: \")\n",
    "n2 = input(\"Ingresa segundo numero: \")\n",
    "\n",
    "n1 = int(n1)\n",
    "n2 = int(n2)\n",
    "\n",
    "suma = n1 + n2\n",
    "resta = n1 - n2\n",
    "multiplicacion = n1 * n2\n",
    "divicion = n1 / n2\n",
    "\n",
    "mensaje = f\"\"\"\n",
    "Para los numeros {n1} y {n2}, \n",
    "el resultado de la suma es {suma}\n",
    "el resultado de la multiplicacion es {multiplicacion}\n",
    "el resultado de la resta es {resta}\n",
    "el resultado de la divicion es {divicion}\n",
    "\"\"\"\n",
    "print(mensaje)\n"
   ]
  },
  {
   "cell_type": "code",
   "execution_count": null,
   "metadata": {},
   "outputs": [],
   "source": [
    "#convercion de tipos\n",
    "\n",
    "#int()\n",
    "#str()\n",
    "#float()\n",
    "#bool()\n",
    "\n",
    "print(bool(\"\"))\n",
    "print(bool(\"0\"))\n",
    "print(bool(None))\n",
    "print(bool(\" \"))\n",
    "print(bool(0))"
   ]
  }
 ],
 "metadata": {
  "kernelspec": {
   "display_name": ".venv",
   "language": "python",
   "name": "python3"
  },
  "language_info": {
   "codemirror_mode": {
    "name": "ipython",
    "version": 3
   },
   "file_extension": ".py",
   "mimetype": "text/x-python",
   "name": "python",
   "nbconvert_exporter": "python",
   "pygments_lexer": "ipython3",
   "version": "3.10.6"
  },
  "orig_nbformat": 4
 },
 "nbformat": 4,
 "nbformat_minor": 2
}
