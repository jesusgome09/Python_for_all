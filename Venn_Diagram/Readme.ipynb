{
 "cells": [
  {
   "attachments": {},
   "cell_type": "markdown",
   "metadata": {},
   "source": [
    "# Venn Diagrams\n",
    "_Created by: Jesus Gomez_\n",
    "\n",
    "This program const creates a Venn Diagram from a list of strings.\n"
   ]
  }
 ],
 "metadata": {
  "language_info": {
   "name": "python"
  },
  "orig_nbformat": 4
 },
 "nbformat": 4,
 "nbformat_minor": 2
}
